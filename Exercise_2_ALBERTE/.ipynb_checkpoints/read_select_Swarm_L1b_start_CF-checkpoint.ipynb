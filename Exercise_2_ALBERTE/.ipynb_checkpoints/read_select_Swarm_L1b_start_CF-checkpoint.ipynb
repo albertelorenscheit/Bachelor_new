{
 "cells": [
  {
   "cell_type": "markdown",
   "id": "sufficient-proof",
   "metadata": {},
   "source": [
    "# Exercise 2: Visualizing and selecting Swarm data for modelling\n",
    "\n",
    "This is a simple python (jupyter) notebook for reading Swarm L1B Mag cdf data files for starting Exercise 2 in DTU's MSc Geomagnetism course.\n",
    "\n",
    "Chris Finlay with input from Eigil Lippert, Mikkel Otzen and Clemens Kloss\n",
    "\n",
    "In the following notebook it will be demonstrated how to carry out data selection on typical Swarm data products, and plot some relevant geomagnetic features.  Uses pandas for data manipulation\n",
    "\n",
    "Requires: numpy, matplotlib, pandas, cdflib\n"
   ]
  },
  {
   "cell_type": "code",
   "execution_count": 1,
   "id": "noble-courtesy",
   "metadata": {},
   "outputs": [],
   "source": [
    "import cdflib\n",
    "import pandas as pd\n",
    "import numpy as np\n",
    "from datetime import datetime\n",
    "import os\n",
    "import matplotlib.pyplot as plt\n",
    "import cartopy.crs as ccrs\n",
    "from lib.solar_emphemeris import *"
   ]
  },
  {
   "cell_type": "code",
   "execution_count": 2,
   "id": "loving-charlotte",
   "metadata": {},
   "outputs": [],
   "source": [
    "# Define Paths and Files to read\n",
    "DST_PATH = \"Disturbance_Indices/Dst_MJD_1998.dat\"\n",
    "KP_PATH = \"Disturbance_Indices/Kp_MJD_1998_QL.dat\"\n",
    "DATA_PATH = \"Data/\""
   ]
  },
  {
   "cell_type": "markdown",
   "id": "turned-renaissance",
   "metadata": {},
   "source": [
    "# (i) Load data"
   ]
  },
  {
   "cell_type": "code",
   "execution_count": 3,
   "id": "written-doctrine",
   "metadata": {},
   "outputs": [],
   "source": [
    "# Load in Dst and Kp indices:\n",
    "time_Dst, Dst = np.loadtxt(DST_PATH, usecols=(0,1), comments='#',unpack=True)\n",
    "time_Kp, Kp = np.loadtxt(KP_PATH, usecols=(0,1), comments='#',unpack=True)\n",
    "\n",
    "# Put into pandas dataframe for easy access\n",
    "Dst_indices = pd.DataFrame({'time_Dst': time_Dst, 'Dst': Dst})\n",
    "Kp_indices = pd.DataFrame({'time_Kp': time_Kp, 'Kp': Kp})\n"
   ]
  },
  {
   "cell_type": "code",
   "execution_count": 4,
   "id": "raising-conference",
   "metadata": {},
   "outputs": [
    {
     "name": "stderr",
     "output_type": "stream",
     "text": [
      "Exception ignored in: <function CDF.__del__ at 0x7fe447068b80>\n",
      "Traceback (most recent call last):\n",
      "  File \"/Users/cfinl/opt/miniconda3/envs/INV_PROBS_ML/lib/python3.8/site-packages/cdflib/cdfread.py\", line 143, in __del__\n",
      "    if self.temp_file is not None:\n",
      "AttributeError: 'CDF' object has no attribute 'temp_file'\n"
     ]
    },
    {
     "name": "stdout",
     "output_type": "stream",
     "text": [
      "Error could not open file: \n",
      " .DS_Store\n",
      "Data/SW_OPER_MAGB_LR_1B_20180914T000000_20180914T235959_0505_MDR_MAG_LR.cdf\n",
      "Data/SW_OPER_MAGB_LR_1B_20180915T000000_20180915T235959_0505_MDR_MAG_LR.cdf\n",
      "Data/SW_OPER_MAGB_LR_1B_20180916T000000_20180916T235959_0505_MDR_MAG_LR.cdf\n",
      "Data/SW_OPER_MAGB_LR_1B_20180917T000000_20180917T235959_0505_MDR_MAG_LR.cdf\n",
      "Data/SW_OPER_MAGB_LR_1B_20180918T000000_20180918T235959_0505_MDR_MAG_LR.cdf\n",
      "Data/SW_OPER_MAGB_LR_1B_20180919T000000_20180919T235959_0505_MDR_MAG_LR.cdf\n",
      "Data/SW_OPER_MAGB_LR_1B_20180920T000000_20180920T235959_0505_MDR_MAG_LR.cdf\n",
      "Data/SW_OPER_MAGB_LR_1B_20180921T000000_20180921T235959_0505_MDR_MAG_LR.cdf\n",
      "Data/SW_OPER_MAGB_LR_1B_20180922T000000_20180922T235959_0505_MDR_MAG_LR.cdf\n",
      "Data/SW_OPER_MAGB_LR_1B_20180923T000000_20180923T235959_0505_MDR_MAG_LR.cdf\n",
      "Data/SW_OPER_MAGB_LR_1B_20180924T000000_20180924T235959_0505_MDR_MAG_LR.cdf\n",
      "Data/SW_OPER_MAGB_LR_1B_20180925T000000_20180925T235959_0505_MDR_MAG_LR.cdf\n",
      "Data/SW_OPER_MAGB_LR_1B_20180926T000000_20180926T235959_0505_MDR_MAG_LR.cdf\n",
      "Data/SW_OPER_MAGB_LR_1B_20180927T000000_20180927T235959_0505_MDR_MAG_LR.cdf\n",
      "Data/SW_OPER_MAGB_LR_1B_20180928T000000_20180928T235959_0505_MDR_MAG_LR.cdf\n"
     ]
    }
   ],
   "source": [
    "# Load Swarm data\n",
    "i = 0\n",
    "mjd2000_time = []\n",
    "radii = []\n",
    "theta = []\n",
    "phi = []\n",
    "b_nec = []\n",
    "flags_b = []\n",
    "flags_q = []\n",
    "\n",
    "for folder, subfolder, files in os.walk(DATA_PATH):\n",
    "    for file in sorted(list(files)):\n",
    "        # if there is any non-cdf files in your folder they will be skipped:\n",
    "        try:\n",
    "            \n",
    "            cdf_file = cdflib.CDF(folder + file)\n",
    "            time_stamps = cdf_file.varget(\"Timestamp\")  # CDF epoch is in miliseconds since 01-Jan-0000\n",
    "            print(folder + file)\n",
    "            #tmp = (time_stamps - time_stamps[0]) / (1e3*60*60*24) + to_mjd2000(2014, 9, 14+i)\n",
    "            mjd2000_time.extend((time_stamps - time_stamps[0]) / (1e3*60*60*24) + to_mjd2000(2014, 9, 14+i))  # \n",
    "            radii.extend(cdf_file.varget(\"Radius\")/1e3)\n",
    "            theta.extend(90 - cdf_file.varget(\"Latitude\"))\n",
    "            phi.extend(cdf_file.varget(\"Longitude\"))\n",
    "            b_nec.extend(cdf_file.varget(\"B_NEC\"))\n",
    "            flags_b.extend(cdf_file.varget(\"Flags_b\"))\n",
    "            flags_q.extend(cdf_file.varget(\"Flags_q\"))\n",
    "            i += 1\n",
    "            cdf_file.close()\n",
    "        except OSError:\n",
    "            print('Error could not open file:', \"\\n\", file)\n",
    "            pass\n"
   ]
  },
  {
   "cell_type": "code",
   "execution_count": 5,
   "id": "different-dictionary",
   "metadata": {},
   "outputs": [
    {
     "name": "stdout",
     "output_type": "stream",
     "text": [
      "shape of dataframe: (1296000, 9)\n"
     ]
    }
   ],
   "source": [
    "# Place the data in a pandas dataframe for easy data processing\n",
    "\n",
    "b_nec = np.array(b_nec)\n",
    "data = [mjd2000_time, radii, theta, phi, b_nec[:, 0], b_nec[:, 1], b_nec[:, 2], flags_b, flags_q]\n",
    "column_names = [\"time_stamp\", \"radius\", \"colat\", \"lon\", \"X\", \"Y\", \"Z\", \"flags_b\", \"flags_q\"]\n",
    "\n",
    "# place data in dataframe for easier nan-removal etc.\n",
    "dataframe = pd.DataFrame()\n",
    "for index, col in enumerate(column_names):\n",
    "    dataframe[col] = data[index]\n",
    "\n",
    "# save memory\n",
    "del data, mjd2000_time, radii, theta, phi, b_nec, flags_q\n",
    "\n",
    "print('shape of dataframe:', dataframe.shape)"
   ]
  },
  {
   "cell_type": "code",
   "execution_count": 6,
   "id": "dominant-scholarship",
   "metadata": {},
   "outputs": [],
   "source": [
    "# drop nans, if any\n",
    "dataframe = dataframe.dropna()\n",
    "\n",
    "# check for error flags. Where flag_b or flag_q is 255\n",
    "\n",
    "# drops rows where flag_b == 255\n",
    "dataframe.drop(dataframe[dataframe.flags_b == 255].index, inplace=True)\n",
    "\n",
    "# drops rows where flag_q == 255\n",
    "dataframe.drop(dataframe[dataframe.flags_q == 255].index, inplace=True)"
   ]
  },
  {
   "cell_type": "markdown",
   "id": "cosmetic-spell",
   "metadata": {},
   "source": [
    "# (ii) Down-sample data"
   ]
  },
  {
   "cell_type": "code",
   "execution_count": 7,
   "id": "blessed-boutique",
   "metadata": {},
   "outputs": [],
   "source": [
    "# Take every 60th datum\n"
   ]
  },
  {
   "cell_type": "markdown",
   "id": "medieval-rider",
   "metadata": {},
   "source": [
    "# (iii) Exploratory plots of vector field components vs co-latitude and time"
   ]
  },
  {
   "cell_type": "code",
   "execution_count": 8,
   "id": "documentary-assistant",
   "metadata": {},
   "outputs": [],
   "source": [
    "# Plot the vector field components against co-latitude and time.\n"
   ]
  },
  {
   "cell_type": "markdown",
   "id": "patient-saint",
   "metadata": {},
   "source": [
    "# (iv) Remove Sunlight data"
   ]
  },
  {
   "cell_type": "code",
   "execution_count": 9,
   "id": "through-expression",
   "metadata": {},
   "outputs": [],
   "source": [
    "# removing sunlit data\n",
    "#rad = np.pi/180\n",
    "#zenith = 90-10  # zenith angle 80 deg\n",
    "\n",
    "# threshold for dark time observation\n",
    "#cos_zeta_0 = np.cos((zenith) * rad)\n",
    "#_, declination = sun_mjd2000(dataframe.time_stamp.values)\n",
    "#cos_zeta = np.cos(colat * rad) * np.sin(declination) \\\n",
    "#         + np.sin(colat * rad) * np.cos(declination) * np.cos(np.mod(time + .5, 1) * 2*np.pi + lon * rad)\n"
   ]
  },
  {
   "cell_type": "markdown",
   "id": "medium-evidence",
   "metadata": {},
   "source": [
    "# (v) Implement quiet time selection based on rate of change of Dst and Kp"
   ]
  },
  {
   "cell_type": "code",
   "execution_count": 10,
   "id": "macro-chemistry",
   "metadata": {
    "scrolled": false
   },
   "outputs": [],
   "source": [
    "# Quiet-time selection, using dDst and Kp thresholds\n"
   ]
  },
  {
   "cell_type": "markdown",
   "id": "confused-operation",
   "metadata": {},
   "source": [
    "# (vi) Convert to field intensity F and plot vs co-latitude and longitude"
   ]
  },
  {
   "cell_type": "code",
   "execution_count": 11,
   "id": "varied-genetics",
   "metadata": {},
   "outputs": [],
   "source": [
    "# Calculate field intensity and plot \n"
   ]
  },
  {
   "cell_type": "markdown",
   "id": "modern-geometry",
   "metadata": {},
   "source": [
    "# (vii) Convert to $B_r$, $B_\\theta$, $B_\\lambda$ and save to file for later"
   ]
  },
  {
   "cell_type": "code",
   "execution_count": 12,
   "id": "million-pepper",
   "metadata": {},
   "outputs": [],
   "source": [
    "# save to selected data to file, e.g. python file or ascii "
   ]
  }
 ],
 "metadata": {
  "kernelspec": {
   "display_name": "Python 3",
   "language": "python",
   "name": "python3"
  },
  "language_info": {
   "codemirror_mode": {
    "name": "ipython",
    "version": 3
   },
   "file_extension": ".py",
   "mimetype": "text/x-python",
   "name": "python",
   "nbconvert_exporter": "python",
   "pygments_lexer": "ipython3",
   "version": "3.8.5"
  }
 },
 "nbformat": 4,
 "nbformat_minor": 5
}
