{
 "cells": [
  {
   "cell_type": "markdown",
   "id": "sufficient-proof",
   "metadata": {},
   "source": [
    "# Exercise 2: Visualizing and selecting Swarm data for modelling\n",
    "\n",
    "This is a simple python (jupyter) notebook for reading Swarm L1B Mag cdf data files for starting Exercise 2 in DTU's MSc Earth and Planetary magnetism course.\n",
    "\n",
    "Chris Finlay with input from Eigil Lippert, Mikkel Otzen and Clemens Kloss\n",
    "\n",
    "In the following notebook it will be demonstrated how to carry out data selection on typical Swarm data products, and plot some relevant geomagnetic features.  Uses pandas for data manipulation\n",
    "\n",
    "Requires one has installed the necessary packages in your environment (see EPM_environ.txt)\n"
   ]
  },
  {
   "cell_type": "code",
   "execution_count": null,
   "id": "noble-courtesy",
   "metadata": {
    "ExecuteTime": {
     "end_time": "2023-02-06T15:42:01.691901Z",
     "start_time": "2023-02-06T15:42:01.686715Z"
    }
   },
   "outputs": [],
   "source": [
    "import cdflib\n",
    "import pandas as pd\n",
    "import numpy as np\n",
    "from datetime import datetime\n",
    "import os\n",
    "import matplotlib.pyplot as plt\n",
    "import cartopy.crs as ccrs\n",
    "from lib.solar_emphemeris import *"
   ]
  },
  {
   "cell_type": "code",
   "execution_count": null,
   "id": "loving-charlotte",
   "metadata": {
    "ExecuteTime": {
     "end_time": "2023-02-06T15:42:03.007339Z",
     "start_time": "2023-02-06T15:42:02.997426Z"
    }
   },
   "outputs": [],
   "source": [
    "# Define Paths and Files to read\n",
    "DST_PATH = \"Disturbance_Indices/Dst_MJD_1998.dat\"\n",
    "KP_PATH = \"Disturbance_Indices/Kp_MJD_1998_QL.dat\"\n",
    "DATA_PATH = \"Data/\""
   ]
  },
  {
   "cell_type": "markdown",
   "id": "turned-renaissance",
   "metadata": {},
   "source": [
    "# (i) Load data"
   ]
  },
  {
   "cell_type": "code",
   "execution_count": null,
   "id": "written-doctrine",
   "metadata": {
    "ExecuteTime": {
     "end_time": "2023-02-06T15:42:08.139025Z",
     "start_time": "2023-02-06T15:42:08.038786Z"
    }
   },
   "outputs": [],
   "source": [
    "# Load in Dst and Kp indices:\n",
    "time_Dst, Dst = np.loadtxt(DST_PATH, usecols=(0,1), comments='#',unpack=True)\n",
    "time_Kp, Kp = np.loadtxt(KP_PATH, usecols=(0,1), comments='#',unpack=True)\n",
    "\n",
    "# Put into pandas dataframe for easy access\n",
    "Dst_indices = pd.DataFrame({'time_Dst': time_Dst, 'Dst': Dst})\n",
    "Kp_indices = pd.DataFrame({'time_Kp': time_Kp, 'Kp': Kp})\n"
   ]
  },
  {
   "cell_type": "code",
   "execution_count": null,
   "id": "raising-conference",
   "metadata": {
    "ExecuteTime": {
     "end_time": "2023-02-06T15:42:09.834135Z",
     "start_time": "2023-02-06T15:42:09.057490Z"
    }
   },
   "outputs": [],
   "source": [
    "# Load Swarm data\n",
    "i = 0\n",
    "dataframe = []  # create a temporary empty list\n",
    "\n",
    "for folder, subfolder, files in os.walk(DATA_PATH):\n",
    "    for file in sorted(list(files)):\n",
    "        # if there is any non-cdf files in your folder they will be skipped:\n",
    "        try:\n",
    "            \n",
    "            cdf_file = cdflib.CDF(folder + file)\n",
    "            time_stamps = cdf_file.varget(\"Timestamp\")  # CDF epoch is in miliseconds since 01-Jan-0000\\n\",\n",
    "            print(folder + file)\n",
    "\n",
    "            #tmp = (time_stamps - time_stamps[0]) / (1e3*60*60*24) + to_mjd2000(2018, 9, 14+i)\n",
    "            mjd2000_time = (time_stamps - time_stamps[0]) / (1e3*60*60*24) + to_mjd2000(2018, 9, 14+i)  # \n",
    "            radii = cdf_file.varget(\"Radius\")/1e3\n",
    "            theta = 90 - cdf_file.varget(\"Latitude\")\n",
    "            phi = cdf_file.varget(\"Longitude\")\n",
    "            b_nec = cdf_file.varget(\"B_NEC\")\n",
    "            flags_b = cdf_file.varget(\"Flags_b\")\n",
    "            flags_q = cdf_file.varget(\"Flags_q\")\n",
    "\n",
    "            # append to list (list of dataframes)\n",
    "            dataframe.append(pd.DataFrame({\n",
    "                'time_stamp': mjd2000_time,\n",
    "                'radius': radii,\n",
    "                'colat': theta,\n",
    "                'lon': phi,\n",
    "                'X': b_nec[:, 0],\n",
    "                'Y': b_nec[:, 1],\n",
    "                'Z': b_nec[:, 2],\n",
    "                'flags_b': flags_b,\n",
    "                'flags_q': flags_q\n",
    "            }))\n",
    "\n",
    "            i += 1\n",
    "\n",
    "        except OSError:\n",
    "            print('Error could not open file:', \"\\n\", file)\n",
    "            pass\n",
    "\n",
    "\n",
    "# save memory\n",
    "del mjd2000_time, radii, theta, phi, b_nec, flags_q, flags_b\n",
    "            \n",
    "# convert list to single dataframe using pandas.concat\n",
    "dataframe = pd.concat(dataframe, ignore_index=True)\n",
    "\n",
    "print('shape of dataframe:', dataframe.shape)\n",
    "dataframe.head(10)\n"
   ]
  },
  {
   "cell_type": "code",
   "execution_count": null,
   "id": "dominant-scholarship",
   "metadata": {
    "ExecuteTime": {
     "end_time": "2023-02-06T15:42:13.413925Z",
     "start_time": "2023-02-06T15:42:13.209049Z"
    }
   },
   "outputs": [],
   "source": [
    "# drop nans, if any\n",
    "dataframe = dataframe.dropna()\n",
    "\n",
    "# check for error flags. Where flag_b or flag_q is 255\n",
    "\n",
    "# drops rows where flag_b == 255\n",
    "dataframe.drop(dataframe[dataframe.flags_b == 255].index, inplace=True)\n",
    "\n",
    "# drops rows where flag_q == 255\n",
    "dataframe.drop(dataframe[dataframe.flags_q == 255].index, inplace=True)"
   ]
  },
  {
   "cell_type": "markdown",
   "id": "cosmetic-spell",
   "metadata": {},
   "source": [
    "# (ii) Down-sample data"
   ]
  },
  {
   "cell_type": "code",
   "execution_count": null,
   "id": "blessed-boutique",
   "metadata": {
    "ExecuteTime": {
     "end_time": "2023-02-06T15:42:35.989744Z",
     "start_time": "2023-02-06T15:42:35.980432Z"
    }
   },
   "outputs": [],
   "source": [
    "# Take every 60th datum\n"
   ]
  },
  {
   "cell_type": "markdown",
   "id": "medieval-rider",
   "metadata": {},
   "source": [
    "# (iii) Exploratory plots of vector field components vs co-latitude and time"
   ]
  },
  {
   "cell_type": "code",
   "execution_count": null,
   "id": "documentary-assistant",
   "metadata": {
    "ExecuteTime": {
     "end_time": "2023-02-06T15:42:37.949684Z",
     "start_time": "2023-02-06T15:42:37.944120Z"
    }
   },
   "outputs": [],
   "source": [
    "# Plot the vector field components against co-latitude and time.\n"
   ]
  },
  {
   "cell_type": "markdown",
   "id": "patient-saint",
   "metadata": {},
   "source": [
    "# (iv) Remove Sunlight data"
   ]
  },
  {
   "cell_type": "code",
   "execution_count": null,
   "id": "through-expression",
   "metadata": {
    "ExecuteTime": {
     "end_time": "2023-02-06T15:42:39.417536Z",
     "start_time": "2023-02-06T15:42:39.408188Z"
    }
   },
   "outputs": [],
   "source": [
    "# removing sunlit data\n",
    "#rad = np.pi/180\n",
    "#zenith = 90-10  # zenith angle 80 deg\n",
    "\n",
    "# threshold for dark time observation\n",
    "#cos_zeta_0 = np.cos((zenith) * rad)\n",
    "#_, declination = sun_mjd2000(dataframe.time_stamp.values)\n",
    "#cos_zeta = np.cos(colat * rad) * np.sin(declination) \\\n",
    "#         + np.sin(colat * rad) * np.cos(declination) * np.cos(np.mod(time + .5, 1) * 2*np.pi + lon * rad)\n"
   ]
  },
  {
   "cell_type": "markdown",
   "id": "medium-evidence",
   "metadata": {},
   "source": [
    "# (v) Implement quiet time selection based on rate of change of Dst and Kp"
   ]
  },
  {
   "cell_type": "code",
   "execution_count": null,
   "id": "macro-chemistry",
   "metadata": {
    "ExecuteTime": {
     "end_time": "2023-02-06T15:42:41.362842Z",
     "start_time": "2023-02-06T15:42:41.355925Z"
    }
   },
   "outputs": [],
   "source": [
    "# Quiet-time selection, using dDst and Kp thresholds\n"
   ]
  },
  {
   "cell_type": "markdown",
   "id": "confused-operation",
   "metadata": {},
   "source": [
    "# (vi) Convert to field intensity F and plot vs co-latitude and longitude"
   ]
  },
  {
   "cell_type": "code",
   "execution_count": null,
   "id": "varied-genetics",
   "metadata": {
    "ExecuteTime": {
     "end_time": "2023-02-06T15:42:42.578757Z",
     "start_time": "2023-02-06T15:42:42.572459Z"
    }
   },
   "outputs": [],
   "source": [
    "# Calculate field intensity and plot \n"
   ]
  },
  {
   "cell_type": "markdown",
   "id": "modern-geometry",
   "metadata": {},
   "source": [
    "# (vii) Convert to $B_r$, $B_\\theta$, $B_\\lambda$ and save to file for later"
   ]
  },
  {
   "cell_type": "code",
   "execution_count": null,
   "id": "million-pepper",
   "metadata": {
    "ExecuteTime": {
     "end_time": "2023-02-06T15:42:43.632352Z",
     "start_time": "2023-02-06T15:42:43.627911Z"
    }
   },
   "outputs": [],
   "source": [
    "# save to selected data to file, e.g. python file or ascii "
   ]
  },
  {
   "cell_type": "code",
   "execution_count": null,
   "id": "30071331",
   "metadata": {},
   "outputs": [],
   "source": []
  }
 ],
 "metadata": {
  "kernelspec": {
   "display_name": "Python 3 (ipykernel)",
   "language": "python",
   "name": "python3"
  },
  "language_info": {
   "codemirror_mode": {
    "name": "ipython",
    "version": 3
   },
   "file_extension": ".py",
   "mimetype": "text/x-python",
   "name": "python",
   "nbconvert_exporter": "python",
   "pygments_lexer": "ipython3",
   "version": "3.12.1"
  },
  "latex_envs": {
   "LaTeX_envs_menu_present": true,
   "autoclose": false,
   "autocomplete": true,
   "bibliofile": "biblio.bib",
   "cite_by": "apalike",
   "current_citInitial": 1,
   "eqLabelWithNumbers": true,
   "eqNumInitial": 1,
   "hotkeys": {
    "equation": "Ctrl-E",
    "itemize": "Ctrl-I"
   },
   "labels_anchors": false,
   "latex_user_defs": false,
   "report_style_numbering": false,
   "user_envs_cfg": false
  },
  "toc": {
   "base_numbering": 1,
   "nav_menu": {},
   "number_sections": true,
   "sideBar": true,
   "skip_h1_title": false,
   "title_cell": "Table of Contents",
   "title_sidebar": "Contents",
   "toc_cell": false,
   "toc_position": {},
   "toc_section_display": true,
   "toc_window_display": false
  },
  "varInspector": {
   "cols": {
    "lenName": 16,
    "lenType": 16,
    "lenVar": 40
   },
   "kernels_config": {
    "python": {
     "delete_cmd_postfix": "",
     "delete_cmd_prefix": "del ",
     "library": "var_list.py",
     "varRefreshCmd": "print(var_dic_list())"
    },
    "r": {
     "delete_cmd_postfix": ") ",
     "delete_cmd_prefix": "rm(",
     "library": "var_list.r",
     "varRefreshCmd": "cat(var_dic_list()) "
    }
   },
   "types_to_exclude": [
    "module",
    "function",
    "builtin_function_or_method",
    "instance",
    "_Feature"
   ],
   "window_display": false
  }
 },
 "nbformat": 4,
 "nbformat_minor": 5
}
